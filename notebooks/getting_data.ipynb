{
 "cells": [
  {
   "cell_type": "code",
   "execution_count": 1,
   "id": "296575bb",
   "metadata": {},
   "outputs": [],
   "source": [
    "import json\n",
    "import os\n",
    "\n",
    "from elasticsearch import Elasticsearch"
   ]
  },
  {
   "cell_type": "code",
   "execution_count": 2,
   "id": "59e8e91f",
   "metadata": {},
   "outputs": [],
   "source": [
    "HOST = os.environ.get(\"HOST\")\n",
    "USER = os.environ.get(\"USER\")\n",
    "PASSWORD = os.environ.get(\"PASSWORD\")"
   ]
  },
  {
   "cell_type": "code",
   "execution_count": 3,
   "id": "ee1c1d1f",
   "metadata": {},
   "outputs": [
    {
     "data": {
      "text/plain": [
       "True"
      ]
     },
     "execution_count": 3,
     "metadata": {},
     "output_type": "execute_result"
    }
   ],
   "source": [
    "def elasticsearch_connection():\n",
    "    es = Elasticsearch([{'host':HOST,'port':9200}], http_auth=(USER, PASSWORD))\n",
    "    return es\n",
    "\n",
    "es = elasticsearch_connection()\n",
    "es.ping()"
   ]
  },
  {
   "cell_type": "code",
   "execution_count": 4,
   "id": "50dc7835",
   "metadata": {},
   "outputs": [],
   "source": [
    "query = {\n",
    "  \"size\": 0, \n",
    "  \"query\": {\n",
    "    \"bool\": {\n",
    "      \"must\": [\n",
    "        {\"exists\": {\"field\": \"subtema\"}}\n",
    "      ],\n",
    "      \"must_not\": [\n",
    "        {\"term\": {\n",
    "          \"subtema.keyword\": \"reset\"\n",
    "        }},\n",
    "        {\"term\": {\n",
    "          \"department.keyword\": \"reset\"\n",
    "        }}\n",
    "      ]\n",
    "    }\n",
    "  },\n",
    "  \"aggs\": {\n",
    "    \"cadeias\": {\n",
    "      \"terms\": {\n",
    "        \"field\": \"workspace_name.keyword\",\n",
    "        \"size\": 10\n",
    "      },\n",
    "      \"aggs\": {\n",
    "        \"temas\": {\n",
    "          \"terms\": {\n",
    "            \"field\": \"tema.keyword\",\n",
    "            \"size\": 10\n",
    "          },\n",
    "          \"aggs\": {\n",
    "            \"subtemas\": {\n",
    "              \"terms\": {\n",
    "                \"field\": \"subtema.keyword\",\n",
    "                \"size\": 10\n",
    "              }\n",
    "            }\n",
    "          }\n",
    "        }\n",
    "      }\n",
    "    }\n",
    "  }\n",
    "}"
   ]
  },
  {
   "cell_type": "code",
   "execution_count": 5,
   "id": "9096d656",
   "metadata": {},
   "outputs": [],
   "source": [
    "index = 'prd2-yara-omniv2_peculiardata'"
   ]
  },
  {
   "cell_type": "code",
   "execution_count": 6,
   "id": "2590a93c",
   "metadata": {},
   "outputs": [],
   "source": [
    "res = es.search(index=index, body=query)"
   ]
  },
  {
   "cell_type": "code",
   "execution_count": 7,
   "id": "4c8d32fa",
   "metadata": {},
   "outputs": [],
   "source": [
    "data = res[\"aggregations\"]"
   ]
  },
  {
   "cell_type": "code",
   "execution_count": 8,
   "id": "50b25c1c",
   "metadata": {},
   "outputs": [],
   "source": [
    "with open(\"../data/data.json\", \"w\") as f:\n",
    "    json.dump(data, f, ensure_ascii=False)"
   ]
  }
 ],
 "metadata": {
  "kernelspec": {
   "display_name": "Python 3",
   "language": "python",
   "name": "python3"
  },
  "language_info": {
   "codemirror_mode": {
    "name": "ipython",
    "version": 3
   },
   "file_extension": ".py",
   "mimetype": "text/x-python",
   "name": "python",
   "nbconvert_exporter": "python",
   "pygments_lexer": "ipython3",
   "version": "3.6.9"
  }
 },
 "nbformat": 4,
 "nbformat_minor": 5
}
