{
 "cells": [
  {
   "cell_type": "code",
   "execution_count": 1,
   "id": "4002e589",
   "metadata": {},
   "outputs": [],
   "source": [
    "import json\n",
    "import os\n",
    "\n",
    "from elasticsearch import Elasticsearch"
   ]
  },
  {
   "cell_type": "code",
   "execution_count": 2,
   "id": "a5fb81af",
   "metadata": {},
   "outputs": [],
   "source": [
    "HOST = os.environ.get(\"HOST\")\n",
    "USER = os.environ.get(\"USER\")\n",
    "PASSWORD = os.environ.get(\"PASSWORD\")"
   ]
  },
  {
   "cell_type": "code",
   "execution_count": 3,
   "id": "ad95c9dd",
   "metadata": {},
   "outputs": [
    {
     "data": {
      "text/plain": [
       "True"
      ]
     },
     "execution_count": 3,
     "metadata": {},
     "output_type": "execute_result"
    }
   ],
   "source": [
    "def elasticsearch_connection():\n",
    "    es = Elasticsearch([{'host':HOST,'port':9200}], http_auth=(USER, PASSWORD))\n",
    "    return es\n",
    "\n",
    "es = elasticsearch_connection()\n",
    "es.ping()"
   ]
  },
  {
   "cell_type": "code",
   "execution_count": 9,
   "id": "f91352ff",
   "metadata": {},
   "outputs": [],
   "source": [
    "query = {\n",
    "  \"size\": 0, \n",
    "  \"query\": {\n",
    "    \"bool\": {\n",
    "      \"must\": [\n",
    "        {\"exists\": {\"field\": \"subtema\"}}\n",
    "      ],\n",
    "      \"must_not\": [\n",
    "        {\"term\": {\n",
    "          \"subtema.keyword\": \"reset\"\n",
    "        }},\n",
    "        {\"term\": {\n",
    "          \"tema.keyword\": \"reset\"\n",
    "        }},\n",
    "        {\"term\": {\n",
    "          \"workspace_name.keyword\": \"reset\"\n",
    "        }},\n",
    "        {\"term\": {\n",
    "          \"department.keyword\": \"reset\"\n",
    "        }}\n",
    "      ]\n",
    "    }\n",
    "  },\n",
    "  \"aggs\": {\n",
    "    \"cadeias\": {\n",
    "      \"terms\": {\n",
    "        \"field\": \"workspace_name.keyword\",\n",
    "        \"size\": 10\n",
    "      },\n",
    "      \"aggs\": {\n",
    "        \"temas\": {\n",
    "          \"terms\": {\n",
    "            \"field\": \"tema.keyword\",\n",
    "            \"size\": 10\n",
    "          },\n",
    "          \"aggs\": {\n",
    "            \"subtemas\": {\n",
    "              \"terms\": {\n",
    "                \"field\": \"subtema.keyword\",\n",
    "                \"size\": 10\n",
    "              }\n",
    "            }\n",
    "          }\n",
    "        }\n",
    "      }\n",
    "    }\n",
    "  }\n",
    "}"
   ]
  },
  {
   "cell_type": "code",
   "execution_count": 10,
   "id": "aaf2af44",
   "metadata": {},
   "outputs": [],
   "source": [
    "index = 'prd2-yara-omniv2_peculiardata'"
   ]
  },
  {
   "cell_type": "code",
   "execution_count": 11,
   "id": "163cc8e2",
   "metadata": {},
   "outputs": [],
   "source": [
    "res = es.search(index=index, body=query)"
   ]
  },
  {
   "cell_type": "code",
   "execution_count": 12,
   "id": "391caaef",
   "metadata": {},
   "outputs": [],
   "source": [
    "data = res[\"aggregations\"]"
   ]
  },
  {
   "cell_type": "code",
   "execution_count": 13,
   "id": "b25fe01e",
   "metadata": {},
   "outputs": [],
   "source": [
    "with open(\"../data.json\", \"w\") as f:\n",
    "    json.dump(data, f, ensure_ascii=False)"
   ]
  },
  {
   "cell_type": "code",
   "execution_count": null,
   "id": "32d394e8",
   "metadata": {},
   "outputs": [],
   "source": []
  }
 ],
 "metadata": {
  "kernelspec": {
   "display_name": "Python 3",
   "language": "python",
   "name": "python3"
  },
  "language_info": {
   "codemirror_mode": {
    "name": "ipython",
    "version": 3
   },
   "file_extension": ".py",
   "mimetype": "text/x-python",
   "name": "python",
   "nbconvert_exporter": "python",
   "pygments_lexer": "ipython3",
   "version": "3.6.9"
  }
 },
 "nbformat": 4,
 "nbformat_minor": 5
}
